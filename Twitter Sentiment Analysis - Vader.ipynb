{
 "cells": [
  {
   "cell_type": "markdown",
   "metadata": {},
   "source": [
    "# Twitter Sentiment Analysis"
   ]
  },
  {
   "cell_type": "code",
   "execution_count": 1,
   "metadata": {},
   "outputs": [],
   "source": [
    "#This is a sentiment analysis program that parses tweets fetched from Twitter using Python"
   ]
  },
  {
   "cell_type": "code",
   "execution_count": 113,
   "metadata": {},
   "outputs": [
    {
     "name": "stderr",
     "output_type": "stream",
     "text": [
      "[nltk_data] Downloading package vader_lexicon to\n",
      "[nltk_data]     C:\\Users\\aditi\\AppData\\Roaming\\nltk_data...\n",
      "[nltk_data]   Package vader_lexicon is already up-to-date!\n"
     ]
    }
   ],
   "source": [
    "#Importing libraries\n",
    "\n",
    "import tweepy\n",
    "from wordcloud import WordCloud\n",
    "import nltk\n",
    "nltk.download('vader_lexicon')\n",
    "from nltk.sentiment.vader import SentimentIntensityAnalyzer\n",
    "import pandas as pd\n",
    "import numpy as np\n",
    "import re\n",
    "import matplotlib.pyplot as plt"
   ]
  },
  {
   "cell_type": "code",
   "execution_count": 114,
   "metadata": {},
   "outputs": [],
   "source": [
    "log=pd.read_csv(\"login1.csv\")"
   ]
  },
  {
   "cell_type": "code",
   "execution_count": 115,
   "metadata": {},
   "outputs": [],
   "source": [
    "#Twitter API credentials\n",
    "\n",
    "apiKey = log['key'][0]\n",
    "apiKeySecret = log['key'][1]\n",
    "accessToken = log['key'][2]\n",
    "accessTokenSecret = log['key'][3]\n",
    "bearerToken = log['key'][4]"
   ]
  },
  {
   "cell_type": "code",
   "execution_count": 116,
   "metadata": {},
   "outputs": [],
   "source": [
    "#Create the API object while passing in the authentication information\n",
    "\n",
    "client = tweepy.Client(bearer_token=bearerToken)"
   ]
  },
  {
   "cell_type": "code",
   "execution_count": 161,
   "metadata": {
    "scrolled": true
   },
   "outputs": [
    {
     "name": "stdout",
     "output_type": "stream",
     "text": [
      "1)$qqq https://t.co/NGRIF2JOSl\n",
      "2)There's only 1 thing hou can name yourself if you think Indian economy will rebound with #CrudeOil falling 11% - \"Fool\" !\n",
      "You may also be called as infected with exposure love.\n",
      "We can afford crudeoil even if it is at 200$ provided we can afford.\n",
      "We can afford only if we hav jobs!\n",
      "3)#south #asia #india exports https://t.co/1zq1x1lUY3 https://t.co/rgohjTTG1w\n",
      "4)Indian rupee at Rs 79.36 against USD, gold touches Rs 54K https://t.co/MysQezodVE #IndianRupee #Dollar #ExchangeRate #NewLow @netindian\n",
      "5)Indian rupee at Rs 79.36 against USD, gold touches Rs 54K\n",
      " https://t.co/oswjD2grDy\n",
      "6)@quamrul72 @ashoswai when did china occupy ?\n",
      "1962 ?\n",
      "who was d president ?\n",
      "u want a war with china ?\n",
      "will u fight ?\n",
      "is it good for indian economy ?\n",
      "7)While the #Indian #Economy shall remain strong and performing amidst such chaos #Global challenges would definitely impact few sectors on the #Economy side and various #FinancialInstruments on the #Markets side.... (3/n)\n",
      "8)He proved himself as 'Chanakya' for his ability to steer tough economic and political legislation in Parliament at a time when he headed a minority government.\n",
      "He had laid the foundation for trade liberalisation and the re-integration of the Indian economy with the global economy\n",
      "9)@sanjaybpi @PTI_News #निजिकरण_भगाओ_देश_बचाओ \n",
      "Save PSU Banks Save indian economy\n",
      "10)@LakshmanSagar2 @Amna_sayys @AKorybko Well said, right now china is facing lot of pressure from the West, so china wants to maintain good ties with India for now. Also, indian economy has much potential, so obviously china won't wage a war against india, rather it'll try to grab some land to apply pressure on india.\n",
      "11)@MITHZNAIR1 @soldier_talks @JeenalNGala His predecessor, FM Yashwant Sinha encashed the Gold reserve of RBI. Foreign currency reserve became low, Balance of payment crisis was there, to revive the Indian economy he took the steps. Brought liquidity in Navaratna PSUs, increased reserve through ADRs. Devalued Rupee etc.\n",
      "12)@rahulkanwal Godi Media use its power to propagate incorrect info.\n",
      "\n",
      "Government use its power to Harrash opposition.\n",
      "\n",
      "Opposition use its power to Harrash journalist..\n",
      "\n",
      "Its cyclical...Deal with it... \n",
      "\n",
      "All of u r responsible for the Mishap of Indian peace and Economy...\n",
      "13)@sanjaybpi @PTI_News #निजीकरण_भगाओ_देश_बचाओ\n",
      "Stop privatisation save Indian economy\n",
      "14)@sanjaybpi @PTI_News PSBs are backbone of Indian Economy\n",
      "#निजीकरण_भगाओ_देश_बचाओ\n",
      "#निजीकरण_भगाओ_देश_बचाओ\n",
      "15)Modi govt. has been amazing at distracting people from major issues like unemployment and state of Indian economy. We only talk about projections and how big the economy would be 30 years from now, that's all bullshit!\n",
      "(2/n)\n",
      "#economy #India @narendramodi @PMOIndia @FinMinIndia\n",
      "16)@sanjaybpi @PTI_News #निजीकरण_भगाओ_देश_बचाओ\n",
      "Save PSU Banks save Indian economy\n",
      "17)@sanjaybpi @PTI_News #निजीकरण_भगाओ_देश_बचाओ\n",
      "Stop privatisation save Indian economy\n",
      "18)Please do follow @kap_bee , a new account of Bhavika Kapoor , waisey tou naam hi kaafi hai inka.She is staunch supporter of Congress party (RaGa ) . She is a symbol of or example of Ganga- Jamuna Tahzeeb ,very down to earth .She has great concerned about Indian Economy. Jai Hind.\n",
      "19)@JPNadda @narendramodi @_DigitalIndia Today great resolutions for jpnadda ji at pmmodi ji great leadership for support more increase digital economy resolutions to empowerment all sarvices to fastest technologies to one finger for 135crore Indian people to digital connectivity to economy more effort to future generat\n",
      "20)@daniel86cricket @englandcricket Uff man what’s the price of fuel in Sri Lanka? Oh shit you don’t have fuel to use.. isn’t it? And btw how much debt your country have in last 3 years 😂😂😂 more than Indian economy I guess.\n"
     ]
    }
   ],
   "source": [
    "#The topic chosen for the sentiment analysis is the Indian economy\n",
    "\n",
    "query = \"indian economy -is:retweet\"\n",
    "response = client.search_recent_tweets(query=query, max_results=100)\n",
    "\n",
    "#Show the top 20 tweets\n",
    "\n",
    "i=1;\n",
    "for tweet in response.data:\n",
    "    print(str(i)+')'+tweet.text)\n",
    "    if(i==20):\n",
    "        break\n",
    "    i=i+1"
   ]
  },
  {
   "cell_type": "code",
   "execution_count": 162,
   "metadata": {},
   "outputs": [
    {
     "data": {
      "text/html": [
       "<div>\n",
       "<style scoped>\n",
       "    .dataframe tbody tr th:only-of-type {\n",
       "        vertical-align: middle;\n",
       "    }\n",
       "\n",
       "    .dataframe tbody tr th {\n",
       "        vertical-align: top;\n",
       "    }\n",
       "\n",
       "    .dataframe thead th {\n",
       "        text-align: right;\n",
       "    }\n",
       "</style>\n",
       "<table border=\"1\" class=\"dataframe\">\n",
       "  <thead>\n",
       "    <tr style=\"text-align: right;\">\n",
       "      <th></th>\n",
       "      <th>Tweets</th>\n",
       "    </tr>\n",
       "  </thead>\n",
       "  <tbody>\n",
       "    <tr>\n",
       "      <th>0</th>\n",
       "      <td>$qqq https://t.co/NGRIF2JOSl</td>\n",
       "    </tr>\n",
       "    <tr>\n",
       "      <th>1</th>\n",
       "      <td>There's only 1 thing hou can name yourself if ...</td>\n",
       "    </tr>\n",
       "    <tr>\n",
       "      <th>2</th>\n",
       "      <td>#south #asia #india exports https://t.co/1zq1x...</td>\n",
       "    </tr>\n",
       "    <tr>\n",
       "      <th>3</th>\n",
       "      <td>Indian rupee at Rs 79.36 against USD, gold tou...</td>\n",
       "    </tr>\n",
       "    <tr>\n",
       "      <th>4</th>\n",
       "      <td>Indian rupee at Rs 79.36 against USD, gold tou...</td>\n",
       "    </tr>\n",
       "  </tbody>\n",
       "</table>\n",
       "</div>"
      ],
      "text/plain": [
       "                                              Tweets\n",
       "0                       $qqq https://t.co/NGRIF2JOSl\n",
       "1  There's only 1 thing hou can name yourself if ...\n",
       "2  #south #asia #india exports https://t.co/1zq1x...\n",
       "3  Indian rupee at Rs 79.36 against USD, gold tou...\n",
       "4  Indian rupee at Rs 79.36 against USD, gold tou..."
      ]
     },
     "execution_count": 162,
     "metadata": {},
     "output_type": "execute_result"
    }
   ],
   "source": [
    "#Create a dataframe with a column called tweets\n",
    "df = pd.DataFrame([tweet.text for tweet in response.data], columns=['Tweets'])\n",
    "\n",
    "#Show the first 5 rows\n",
    "df.head()"
   ]
  },
  {
   "cell_type": "markdown",
   "metadata": {},
   "source": [
    "### Hashtag Analysis"
   ]
  },
  {
   "cell_type": "code",
   "execution_count": 163,
   "metadata": {
    "scrolled": true
   },
   "outputs": [
    {
     "data": {
      "text/html": [
       "<div>\n",
       "<style scoped>\n",
       "    .dataframe tbody tr th:only-of-type {\n",
       "        vertical-align: middle;\n",
       "    }\n",
       "\n",
       "    .dataframe tbody tr th {\n",
       "        vertical-align: top;\n",
       "    }\n",
       "\n",
       "    .dataframe thead th {\n",
       "        text-align: right;\n",
       "    }\n",
       "</style>\n",
       "<table border=\"1\" class=\"dataframe\">\n",
       "  <thead>\n",
       "    <tr style=\"text-align: right;\">\n",
       "      <th></th>\n",
       "      <th>Tweets</th>\n",
       "      <th>Hashtags</th>\n",
       "    </tr>\n",
       "  </thead>\n",
       "  <tbody>\n",
       "    <tr>\n",
       "      <th>0</th>\n",
       "      <td>$qqq https://t.co/NGRIF2JOSl</td>\n",
       "      <td>[]</td>\n",
       "    </tr>\n",
       "    <tr>\n",
       "      <th>1</th>\n",
       "      <td>There's only 1 thing hou can name yourself if ...</td>\n",
       "      <td>[#CrudeOil]</td>\n",
       "    </tr>\n",
       "    <tr>\n",
       "      <th>2</th>\n",
       "      <td>#south #asia #india exports https://t.co/1zq1x...</td>\n",
       "      <td>[#south, #asia, #india]</td>\n",
       "    </tr>\n",
       "    <tr>\n",
       "      <th>3</th>\n",
       "      <td>Indian rupee at Rs 79.36 against USD, gold tou...</td>\n",
       "      <td>[#IndianRupee, #Dollar, #ExchangeRate, #NewLow]</td>\n",
       "    </tr>\n",
       "    <tr>\n",
       "      <th>4</th>\n",
       "      <td>Indian rupee at Rs 79.36 against USD, gold tou...</td>\n",
       "      <td>[]</td>\n",
       "    </tr>\n",
       "    <tr>\n",
       "      <th>...</th>\n",
       "      <td>...</td>\n",
       "      <td>...</td>\n",
       "    </tr>\n",
       "    <tr>\n",
       "      <th>95</th>\n",
       "      <td>Circular Economy is one of the themes of the N...</td>\n",
       "      <td>[]</td>\n",
       "    </tr>\n",
       "    <tr>\n",
       "      <th>96</th>\n",
       "      <td>Reforms that are Helping Indian Economy Perfor...</td>\n",
       "      <td>[]</td>\n",
       "    </tr>\n",
       "    <tr>\n",
       "      <th>97</th>\n",
       "      <td>The country's unemployment rate has shot up at...</td>\n",
       "      <td>[]</td>\n",
       "    </tr>\n",
       "    <tr>\n",
       "      <th>98</th>\n",
       "      <td>📢 Breaking News: Unemployment rate in India ri...</td>\n",
       "      <td>[]</td>\n",
       "    </tr>\n",
       "    <tr>\n",
       "      <th>99</th>\n",
       "      <td>@Awais2407 @WasimJaffer14 @root66 @jbairstow21...</td>\n",
       "      <td>[]</td>\n",
       "    </tr>\n",
       "  </tbody>\n",
       "</table>\n",
       "<p>100 rows × 2 columns</p>\n",
       "</div>"
      ],
      "text/plain": [
       "                                               Tweets  \\\n",
       "0                        $qqq https://t.co/NGRIF2JOSl   \n",
       "1   There's only 1 thing hou can name yourself if ...   \n",
       "2   #south #asia #india exports https://t.co/1zq1x...   \n",
       "3   Indian rupee at Rs 79.36 against USD, gold tou...   \n",
       "4   Indian rupee at Rs 79.36 against USD, gold tou...   \n",
       "..                                                ...   \n",
       "95  Circular Economy is one of the themes of the N...   \n",
       "96  Reforms that are Helping Indian Economy Perfor...   \n",
       "97  The country's unemployment rate has shot up at...   \n",
       "98  📢 Breaking News: Unemployment rate in India ri...   \n",
       "99  @Awais2407 @WasimJaffer14 @root66 @jbairstow21...   \n",
       "\n",
       "                                           Hashtags  \n",
       "0                                                []  \n",
       "1                                       [#CrudeOil]  \n",
       "2                           [#south, #asia, #india]  \n",
       "3   [#IndianRupee, #Dollar, #ExchangeRate, #NewLow]  \n",
       "4                                                []  \n",
       "..                                              ...  \n",
       "95                                               []  \n",
       "96                                               []  \n",
       "97                                               []  \n",
       "98                                               []  \n",
       "99                                               []  \n",
       "\n",
       "[100 rows x 2 columns]"
      ]
     },
     "execution_count": 163,
     "metadata": {},
     "output_type": "execute_result"
    }
   ],
   "source": [
    "#Function to extract hashtags from the tweets\n",
    "def find_hashtags(tweet):\n",
    "    return re.findall('(#[A-Za-z]+[A-Za-z0-9-_]+)', tweet)\n",
    "\n",
    "df['Hashtags'] = df['Tweets'].apply(find_hashtags)\n",
    "\n",
    "#Show the updated dateframe with 'Hashtags' column\n",
    "df"
   ]
  },
  {
   "cell_type": "code",
   "execution_count": 164,
   "metadata": {},
   "outputs": [
    {
     "data": {
      "text/html": [
       "<div>\n",
       "<style scoped>\n",
       "    .dataframe tbody tr th:only-of-type {\n",
       "        vertical-align: middle;\n",
       "    }\n",
       "\n",
       "    .dataframe tbody tr th {\n",
       "        vertical-align: top;\n",
       "    }\n",
       "\n",
       "    .dataframe thead th {\n",
       "        text-align: right;\n",
       "    }\n",
       "</style>\n",
       "<table border=\"1\" class=\"dataframe\">\n",
       "  <thead>\n",
       "    <tr style=\"text-align: right;\">\n",
       "      <th></th>\n",
       "      <th>Hashtags</th>\n",
       "    </tr>\n",
       "  </thead>\n",
       "  <tbody>\n",
       "    <tr>\n",
       "      <th>0</th>\n",
       "      <td>#CrudeOil</td>\n",
       "    </tr>\n",
       "    <tr>\n",
       "      <th>1</th>\n",
       "      <td>#south</td>\n",
       "    </tr>\n",
       "    <tr>\n",
       "      <th>2</th>\n",
       "      <td>#asia</td>\n",
       "    </tr>\n",
       "    <tr>\n",
       "      <th>3</th>\n",
       "      <td>#india</td>\n",
       "    </tr>\n",
       "    <tr>\n",
       "      <th>4</th>\n",
       "      <td>#IndianRupee</td>\n",
       "    </tr>\n",
       "  </tbody>\n",
       "</table>\n",
       "</div>"
      ],
      "text/plain": [
       "       Hashtags\n",
       "0     #CrudeOil\n",
       "1        #south\n",
       "2         #asia\n",
       "3        #india\n",
       "4  #IndianRupee"
      ]
     },
     "execution_count": 164,
     "metadata": {},
     "output_type": "execute_result"
    }
   ],
   "source": [
    "#Create a seperate dataframe for hashtags\n",
    "\n",
    "hashtag_list = df['Hashtags'].to_list()\n",
    "flat_hashtags_df = pd.DataFrame([item for sublist in hashtag_list for item in sublist])\n",
    "flat_hashtags_df.columns = ['Hashtags']\n",
    "\n",
    "#Display the top 5 entries of the dataframe\n",
    "\n",
    "flat_hashtags_df.head()"
   ]
  },
  {
   "cell_type": "code",
   "execution_count": 165,
   "metadata": {},
   "outputs": [
    {
     "name": "stdout",
     "output_type": "stream",
     "text": [
      "Total hashtags:  63\n",
      "Repeated hashtags:  53\n"
     ]
    }
   ],
   "source": [
    "print(\"Total hashtags: \", len(flat_hashtags_df['Hashtags']))\n",
    "print(\"Repeated hashtags: \", len(flat_hashtags_df['Hashtags'].unique()))"
   ]
  },
  {
   "cell_type": "code",
   "execution_count": 166,
   "metadata": {},
   "outputs": [
    {
     "data": {
      "text/plain": [
       "<matplotlib.axes._subplots.AxesSubplot at 0x21d1af7bf40>"
      ]
     },
     "execution_count": 166,
     "metadata": {},
     "output_type": "execute_result"
    },
    {
     "data": {
      "image/png": "[encoded data removed]",
      "text/plain": [
       "<Figure size 432x288 with 1 Axes>"
      ]
     },
     "metadata": {
      "needs_background": "light"
     },
     "output_type": "display_data"
    }
   ],
   "source": [
    "#Plot the occurence of each hashtag\n",
    "\n",
    "flat_hashtags_df['Hashtags'].value_counts()[:20].plot(kind='barh')"
   ]
  },
  {
   "cell_type": "markdown",
   "metadata": {},
   "source": [
    "### Polarity analysis"
   ]
  },
  {
   "cell_type": "code",
   "execution_count": 167,
   "metadata": {},
   "outputs": [
    {
     "data": {
      "text/html": [
       "<div>\n",
       "<style scoped>\n",
       "    .dataframe tbody tr th:only-of-type {\n",
       "        vertical-align: middle;\n",
       "    }\n",
       "\n",
       "    .dataframe tbody tr th {\n",
       "        vertical-align: top;\n",
       "    }\n",
       "\n",
       "    .dataframe thead th {\n",
       "        text-align: right;\n",
       "    }\n",
       "</style>\n",
       "<table border=\"1\" class=\"dataframe\">\n",
       "  <thead>\n",
       "    <tr style=\"text-align: right;\">\n",
       "      <th></th>\n",
       "      <th>Tweets</th>\n",
       "    </tr>\n",
       "  </thead>\n",
       "  <tbody>\n",
       "    <tr>\n",
       "      <th>0</th>\n",
       "      <td>$qqq</td>\n",
       "    </tr>\n",
       "    <tr>\n",
       "      <th>1</th>\n",
       "      <td>There's only 1 thing hou can name yourself if ...</td>\n",
       "    </tr>\n",
       "    <tr>\n",
       "      <th>2</th>\n",
       "      <td>south asia india exports</td>\n",
       "    </tr>\n",
       "    <tr>\n",
       "      <th>3</th>\n",
       "      <td>Indian rupee at Rs 79.36 against USD, gold tou...</td>\n",
       "    </tr>\n",
       "    <tr>\n",
       "      <th>4</th>\n",
       "      <td>Indian rupee at Rs 79.36 against USD, gold tou...</td>\n",
       "    </tr>\n",
       "    <tr>\n",
       "      <th>...</th>\n",
       "      <td>...</td>\n",
       "    </tr>\n",
       "    <tr>\n",
       "      <th>95</th>\n",
       "      <td>Circular Economy is one of the themes of the N...</td>\n",
       "    </tr>\n",
       "    <tr>\n",
       "      <th>96</th>\n",
       "      <td>Reforms that are Helping Indian Economy Perfor...</td>\n",
       "    </tr>\n",
       "    <tr>\n",
       "      <th>97</th>\n",
       "      <td>The country's unemployment rate has shot up at...</td>\n",
       "    </tr>\n",
       "    <tr>\n",
       "      <th>98</th>\n",
       "      <td>📢 Breaking News: Unemployment rate in India ri...</td>\n",
       "    </tr>\n",
       "    <tr>\n",
       "      <th>99</th>\n",
       "      <td>Aap apne desh ke economy ke bare mein sooc...</td>\n",
       "    </tr>\n",
       "  </tbody>\n",
       "</table>\n",
       "<p>100 rows × 1 columns</p>\n",
       "</div>"
      ],
      "text/plain": [
       "                                               Tweets\n",
       "0                                               $qqq \n",
       "1   There's only 1 thing hou can name yourself if ...\n",
       "2                          south asia india exports  \n",
       "3   Indian rupee at Rs 79.36 against USD, gold tou...\n",
       "4   Indian rupee at Rs 79.36 against USD, gold tou...\n",
       "..                                                ...\n",
       "95  Circular Economy is one of the themes of the N...\n",
       "96  Reforms that are Helping Indian Economy Perfor...\n",
       "97  The country's unemployment rate has shot up at...\n",
       "98  📢 Breaking News: Unemployment rate in India ri...\n",
       "99      Aap apne desh ke economy ke bare mein sooc...\n",
       "\n",
       "[100 rows x 1 columns]"
      ]
     },
     "execution_count": 167,
     "metadata": {},
     "output_type": "execute_result"
    }
   ],
   "source": [
    "#Clean the text\n",
    "\n",
    "def cleanText(text):\n",
    "    text = re.sub(r'@[A-Za-z0-9]+','', text) #Remove @mentions\n",
    "    text = re.sub(r'#+', '', text) #Removing the # symbol\n",
    "    text = re.sub(r'RT[\\s]', '', text) #Removing RT\n",
    "    text = re.sub(r'https?:\\/\\/\\S+','',text) #Removing hyperlinks\n",
    "    text = re.sub(r'\\n', '', text) #Remving the new line character\n",
    "    return text\n",
    "\n",
    "#Using the function cleanText to clean the tweet\n",
    "\n",
    "df['Tweets']=df['Tweets'].apply(cleanText)\n",
    "\n",
    "#Show the cleaned text\n",
    "df = df.drop('Hashtags',axis=1)\n",
    "df"
   ]
  },
  {
   "cell_type": "code",
   "execution_count": 168,
   "metadata": {},
   "outputs": [
    {
     "data": {
      "text/html": [
       "<div>\n",
       "<style scoped>\n",
       "    .dataframe tbody tr th:only-of-type {\n",
       "        vertical-align: middle;\n",
       "    }\n",
       "\n",
       "    .dataframe tbody tr th {\n",
       "        vertical-align: top;\n",
       "    }\n",
       "\n",
       "    .dataframe thead th {\n",
       "        text-align: right;\n",
       "    }\n",
       "</style>\n",
       "<table border=\"1\" class=\"dataframe\">\n",
       "  <thead>\n",
       "    <tr style=\"text-align: right;\">\n",
       "      <th></th>\n",
       "      <th>Tweets</th>\n",
       "      <th>Sentiment</th>\n",
       "      <th>neg</th>\n",
       "      <th>neu</th>\n",
       "      <th>pos</th>\n",
       "      <th>compound</th>\n",
       "    </tr>\n",
       "  </thead>\n",
       "  <tbody>\n",
       "    <tr>\n",
       "      <th>0</th>\n",
       "      <td>$qqq</td>\n",
       "      <td>Neutral</td>\n",
       "      <td>0.000</td>\n",
       "      <td>1.000</td>\n",
       "      <td>0.000</td>\n",
       "      <td>0.0000</td>\n",
       "    </tr>\n",
       "    <tr>\n",
       "      <th>1</th>\n",
       "      <td>There's only 1 thing hou can name yourself if ...</td>\n",
       "      <td>Negative</td>\n",
       "      <td>0.103</td>\n",
       "      <td>0.897</td>\n",
       "      <td>0.000</td>\n",
       "      <td>-0.6580</td>\n",
       "    </tr>\n",
       "    <tr>\n",
       "      <th>2</th>\n",
       "      <td>south asia india exports</td>\n",
       "      <td>Neutral</td>\n",
       "      <td>0.000</td>\n",
       "      <td>1.000</td>\n",
       "      <td>0.000</td>\n",
       "      <td>0.0000</td>\n",
       "    </tr>\n",
       "    <tr>\n",
       "      <th>3</th>\n",
       "      <td>Indian rupee at Rs 79.36 against USD, gold tou...</td>\n",
       "      <td>Neutral</td>\n",
       "      <td>0.000</td>\n",
       "      <td>1.000</td>\n",
       "      <td>0.000</td>\n",
       "      <td>0.0000</td>\n",
       "    </tr>\n",
       "    <tr>\n",
       "      <th>4</th>\n",
       "      <td>Indian rupee at Rs 79.36 against USD, gold tou...</td>\n",
       "      <td>Neutral</td>\n",
       "      <td>0.000</td>\n",
       "      <td>1.000</td>\n",
       "      <td>0.000</td>\n",
       "      <td>0.0000</td>\n",
       "    </tr>\n",
       "    <tr>\n",
       "      <th>5</th>\n",
       "      <td>when did china occupy ?1962 ?who was d presi...</td>\n",
       "      <td>Negative</td>\n",
       "      <td>0.260</td>\n",
       "      <td>0.593</td>\n",
       "      <td>0.147</td>\n",
       "      <td>-0.6440</td>\n",
       "    </tr>\n",
       "    <tr>\n",
       "      <th>6</th>\n",
       "      <td>While the Indian Economy shall remain strong a...</td>\n",
       "      <td>Positive</td>\n",
       "      <td>0.097</td>\n",
       "      <td>0.711</td>\n",
       "      <td>0.192</td>\n",
       "      <td>0.3818</td>\n",
       "    </tr>\n",
       "    <tr>\n",
       "      <th>7</th>\n",
       "      <td>He proved himself as 'Chanakya' for his abilit...</td>\n",
       "      <td>Positive</td>\n",
       "      <td>0.034</td>\n",
       "      <td>0.913</td>\n",
       "      <td>0.053</td>\n",
       "      <td>0.2023</td>\n",
       "    </tr>\n",
       "    <tr>\n",
       "      <th>8</th>\n",
       "      <td>_News निजिकरण_भगाओ_देश_बचाओ Save PSU Banks Sa...</td>\n",
       "      <td>Positive</td>\n",
       "      <td>0.000</td>\n",
       "      <td>0.484</td>\n",
       "      <td>0.516</td>\n",
       "      <td>0.7506</td>\n",
       "    </tr>\n",
       "    <tr>\n",
       "      <th>9</th>\n",
       "      <td>_sayys  Well said, right now china is facing ...</td>\n",
       "      <td>Positive</td>\n",
       "      <td>0.075</td>\n",
       "      <td>0.786</td>\n",
       "      <td>0.139</td>\n",
       "      <td>0.5784</td>\n",
       "    </tr>\n",
       "  </tbody>\n",
       "</table>\n",
       "</div>"
      ],
      "text/plain": [
       "                                              Tweets Sentiment    neg    neu  \\\n",
       "0                                              $qqq    Neutral  0.000  1.000   \n",
       "1  There's only 1 thing hou can name yourself if ...  Negative  0.103  0.897   \n",
       "2                         south asia india exports     Neutral  0.000  1.000   \n",
       "3  Indian rupee at Rs 79.36 against USD, gold tou...   Neutral  0.000  1.000   \n",
       "4  Indian rupee at Rs 79.36 against USD, gold tou...   Neutral  0.000  1.000   \n",
       "5    when did china occupy ?1962 ?who was d presi...  Negative  0.260  0.593   \n",
       "6  While the Indian Economy shall remain strong a...  Positive  0.097  0.711   \n",
       "7  He proved himself as 'Chanakya' for his abilit...  Positive  0.034  0.913   \n",
       "8   _News निजिकरण_भगाओ_देश_बचाओ Save PSU Banks Sa...  Positive  0.000  0.484   \n",
       "9   _sayys  Well said, right now china is facing ...  Positive  0.075  0.786   \n",
       "\n",
       "     pos  compound  \n",
       "0  0.000    0.0000  \n",
       "1  0.000   -0.6580  \n",
       "2  0.000    0.0000  \n",
       "3  0.000    0.0000  \n",
       "4  0.000    0.0000  \n",
       "5  0.147   -0.6440  \n",
       "6  0.192    0.3818  \n",
       "7  0.053    0.2023  \n",
       "8  0.516    0.7506  \n",
       "9  0.139    0.5784  "
      ]
     },
     "execution_count": 168,
     "metadata": {},
     "output_type": "execute_result"
    }
   ],
   "source": [
    "#Function to calculate the sentiment of the tweet\n",
    "\n",
    "for index, row in df['Tweets'].iteritems():\n",
    "    score = SentimentIntensityAnalyzer().polarity_scores(row)\n",
    "    if score['neg'] > score['pos']:\n",
    "        df.loc[index, \"Sentiment\"] = \"Negative\"\n",
    "    elif score['pos'] > score['neg']:\n",
    "        df.loc[index, \"Sentiment\"] = \"Positive\"\n",
    "    else:\n",
    "        df.loc[index, \"Sentiment\"] = \"Neutral\"\n",
    "        \n",
    "    df.loc[index, 'neg'] = score['neg']\n",
    "    df.loc[index, 'neu'] = score['neu']\n",
    "    df.loc[index, 'pos'] = score['pos']\n",
    "    df.loc[index, 'compound'] = score['compound']\n",
    "    \n",
    "df.head(10)"
   ]
  },
  {
   "cell_type": "code",
   "execution_count": 169,
   "metadata": {},
   "outputs": [
    {
     "data": {
      "text/plain": [
       "(-0.5, 499.5, 299.5, -0.5)"
      ]
     },
     "execution_count": 169,
     "metadata": {},
     "output_type": "execute_result"
    },
    {
     "data": {
      "image/png": "[encoded data removed]",
      "text/plain": [
       "<Figure size 432x288 with 1 Axes>"
      ]
     },
     "metadata": {
      "needs_background": "light"
     },
     "output_type": "display_data"
    }
   ],
   "source": [
    "#Plot the word cloud\n",
    "\n",
    "allWords = ' '.join([twts for twts in df['Tweets']])\n",
    "\n",
    "wordCloud = WordCloud(width=500, height=300, random_state=21, max_font_size=119).generate(allWords)\n",
    "\n",
    "plt.imshow(wordCloud, interpolation='bilinear')\n",
    "plt.axis('off')"
   ]
  },
  {
   "cell_type": "code",
   "execution_count": 170,
   "metadata": {},
   "outputs": [
    {
     "name": "stdout",
     "output_type": "stream",
     "text": [
      "1)   Uff man what’s the price of fuel in Sri Lanka? Oh shit you don’t have fuel to use.. isn’t it? And btw how much debt your country have in last 3 years 😂😂😂 more than Indian economy I guess.\n",
      "\n",
      "2)  This number is a joke like the $30T Indian economy. \n",
      "\n",
      "3)  Indian Pacers in 4th inns of the 3 OS Tests dis yearRuns: 663Wkts: 7Avg: 94.71ER: 3.99Bhai bumrah 4+ economy se run kha rha thaBaanki ko kya hi boleinKabhi elgar..kabhi peterson 2.0 kabhi bairstow..Root toh tha hiHadd haiT20 wc main PakistanSaal hi panauti haiUr rant \n",
      "\n",
      "4)     IS SUCH TRILLION DOLLAR ECONOMY REQUIRED FOR  INDIA /INDIAN STATES ?, EVEN AFTER 75 YEARS OF INDEPENDENCE , 80 CRORE POPULATION ARE ON FREE FOOD RATION AND THEY CAN NOT AFFORD TO BUY HIGH PRICED LPG CYLINDER UNDER UJJALA YOJJANA.\n",
      "\n",
      "5) In Focus | Experts M.K. Agarwal and Deepshikha Sikarwar discuss on 'Indian Economy Looks Up'Watch:  \n",
      "\n",
      "6)  Do not bring too much Celebrities to Indian Politics, They have only power to win in election n nothing to do for Economy nor can able to prepare a sustainable budget, Our Democracy should go beyond fm Political Politics to Political Economy, Democracy be less dependant on celebs\n",
      "\n",
      "7)    It’s a loss because those same educated smart people would be generating much more than that in india. Indian economy and manufacturing would be even better if the educated weren’t forced to leave the horribly run country\n",
      "\n",
      "8) Rupee reaching to its lowest value, 80 vis-à-vis US dollar is a danger signal to the Indian economy. The RBI and the Monetary Policy Committee must immediately act to check its further collapse.\n",
      "\n",
      "9)  India is one of  top ten economy in the world. Indian population of 1.3 billion including 200 millions minorities,works together for india and Mr Modi is democratically elected pm. Except some religious mental fanatics who in the name of blasphemy take law in their hands.\n",
      "\n",
      "10)  Do not panic, USD$ is jacked up against all fiat currency. Nothing to do with local Indian economy.\n",
      "\n",
      "11)   Your basic understanding of Indian economy really sucks. Moreover, you don't seem to follow the recent developments. Nobody gets a job showing a degree(at least in STEM) these days. The same fake degree holders are creating unicorns here.Don't behave like an imbecile commie!\n",
      "\n",
      "12)   India is one of  top ten economy in the world. Indian population of 1.3 billion including 200 millions of minorities, works together for india. Except some religious fanatics who in the name of blasphemy take law in their hands. remember no one was involved in 9/11 in usa.\n",
      "\n",
      "13)  _5V   For reference, Bhakt, go study the 2008 American Housing Bubble and then study Dr. Singh’s impeccable approach towards ‘global recession’ which kept recession in the Indian Economy at bay. Now that a bunch of uneducated folks run the country, they are the ones who ‘ratte raho’\n",
      "\n",
      "14) Data released by Centre for Monitoring Indian Economy Pvt. showed that the unemployment rate climbed to 7.8% of the total workforce in June, from 7.12% in May.\n",
      "\n",
      "15) Rupee reaching to its lowest value, 80 vis-à-vis US dollar is a danger signal to the Indian economy. The RBI and the Monetary Policy Committee must immediately act to check its further collapse.\n",
      "\n",
      "16)  Sweta Singh demonetisation scam was a deathblow to the Indian economy &amp; MSMEs.\n",
      "\n",
      "17) Brent crude oil down 9.90% ⤵️Irrespective of how the market reacts tomorrow, it's a relief for the Indian economy.Nifty banknifty trading investing CrudeOil inflation\n",
      "\n",
      "18)   _sule Loser advising would- be-loser. Wonder if the world would go berserk tomorrow because of two seniles \" wisely deliberating\" the Indian economy, Ukraine, US shootings and Oslo. Sorely missed in the confabulations are the old man's daughter and son- in- law Sadanand\n",
      "\n",
      "19)  Privatization will not only destroy the Indian Economy but will disturb youths and their Future raising to Unemployment at Mass level.Please wake up against Privatization ✊✊Now or Never! \n",
      "\n",
      "20)  Yes, more or less. Also, one thing that is true is BJP is genuinely very good at infra building &amp; much better at economy too than the present alternatives. Even if one isn't H nationalist, they can vote BJP simply for Indian nationalism to make India more developed.\n",
      "\n",
      "21)  Whatever he touches goes down the hill...Rupee, Indian economy, MSMEs, Akali, SS, JDU ....list is long...\n",
      "\n",
      "22) Indian influence in South Asia declines as China expands foothold  \n",
      "\n",
      "23) 5 more years for  &amp;   will be catastrophic for indian economy..Youth will be jobless, without food &amp; the inflation will be the highest.Forget 5 trillion dollars economy.\n",
      "\n",
      "24)  Oil down 8 % good for Indian economy so might be gap down then it will recover\n",
      "\n",
      "25)  Start doing business. The reason why Marwadis rule the Indian economy.\n",
      "\n",
      "26) Unemployment Rate: सीएमआईई का दावा- जून में बेरोजगारी दर बढ़कर हुई 7.80 प्रतिशत, 1.3 करोड़ रोजगार घटे \n",
      "\n",
      "27) Crude has tumbled today. Extremely good for Indian economy and inflation. \n",
      "\n",
      "28)    Indeed. No money &amp; the Indian government was politically temperamental. Also touring India before the Indian economy was liberalised was not particularly pleasant either.\n",
      "\n",
      "29) Unemployment Rate: सीएमआईई का दावा- जून में बेरोजगारी दर बढ़कर हुई 7.80 प्रतिशत, 1.3 करोड़ रोजगार घटेUnemploymentRate CMIE IndianEconomy \n",
      "\n",
      "30) Finally *crude* which was holding fort for commodity bulls also cracking. It is likely to be eventually good for Indian Economy and inflation.\n",
      "\n",
      "31)   Not when i lose the creamy layer of population. The Indian immigrants had added more GDP to  US economy through skilled work and enterprenuership. Ring a bell?\n",
      "\n",
      "32) Reforms that are Helping Indian Economy Perform   \n",
      "\n",
      "33) 📢 Breaking News: Unemployment rate in India rises to 7.80 percent from 7.12 percent in June, 2022 💼- Centre for Monitoring Indian Economy (CMIE). \n",
      "\n",
      "34)      Economy wait....can Modi spell it even? Hello your Economy going down. Should i share statistics? Plus good news for Pakistan that your Army also with Agnipath scheme going to sleep plus bann on Indian Products in Arab countries kyunkey \"Modi hey toe Mumkin hey\". 🤣🤣🤣😂😂\n",
      "\n",
      "35) Amid global Chaos recession is good for Indian economy 🇮🇳This is strange but true, recession is good for India 🇮🇳🇮🇳  _satriyo  \n",
      "\n",
      "36) Union Minister _GoI  today said that the Government’s Digital India initiatives have brought in a seismic transformation in the economic landscape of the country, by creating more opportunities and putting the youth in the driver’s seat of the Indian digital economy. \n",
      "\n",
      "37) India's unemployment rate shot up at 7.80% in June with the loss of 13 Mn jobs, mainly in the agriculture sector, according to the data released by the Centre for Monitoring Indian Economy (CMIE).\n",
      "\n",
      "38) How could a flourishing Indian economy prior to 2014 fall on its face what would it take for Dollar to go at 79.38 Rupee well a hard working ASS 24/7 working moron NarendraModi what a disgrace. INDvENG MumbaiRains Binance Twitter BJPFailsIndia FuelPrice \n",
      "\n",
      "39) गिरता जा रहा रुपया, इकोनॉमी को कैसे होगा नुकसान, किसे मिलेगा फायदा, समझें \n",
      "\n"
     ]
    }
   ],
   "source": [
    "#Print the positive tweets\n",
    "j=1;\n",
    "for i in range(0,df.shape[0]):\n",
    "    if(df['Sentiment'][i]=='Positive'):\n",
    "        print(str(j)+') '+sortedDF['Tweets'][i])\n",
    "        print()\n",
    "        j=j+1"
   ]
  },
  {
   "cell_type": "code",
   "execution_count": 171,
   "metadata": {},
   "outputs": [
    {
     "name": "stdout",
     "output_type": "stream",
     "text": [
      "1) Modi govt. has been amazing at distracting people from major issues like unemployment and state of Indian economy. We only talk about projections and how big the economy would be 30 years from now, that's all bullshit!(2/n)economy India   \n",
      "\n",
      "2)   @_DigitalIndia Today great resolutions for jpnadda ji at pmmodi ji great leadership for support more increase digital economy resolutions to empowerment all sarvices to fastest technologies to one finger for 135crore Indian people to digital connectivity to economy more effort to future generat\n",
      "\n",
      "3) Crude oil prices failing, good sign for indian economy.\n",
      "\n",
      "4) Hotel owners &amp; indian economy  \n",
      "\n",
      "5) Pakistanis should watch such informed shows about their economy ofcourse by Indian..not their inhouse rabble-rousers. \n",
      "\n",
      "6)  You should have ask follow up question to this smart gentleman why Indian currency is worst in Asia.. it’s not black or white🤦🏽 \n",
      "\n",
      "7) _tanu  What about this? 🤣😂\n",
      "\n",
      "8)  _indi  Rupee decline is not a negative for Indian economy. Search on google and read major economists view of this. Current account deficit is majorly due to high oil prices and high gold imports (due to curbing of illegally smuggling in recent years).\n",
      "\n",
      "9)  Yeah yeah, Toy is contributing a big share in Indian economy. Tomorrow Condom will be the dream export project for Indian ministry to control slashing economy.\n",
      "\n",
      "10)      _India _India    💯Every country does have safe/stylish cars with very low prices👉But, INDIAN car prices are very high❄️INDIA must Support New Indian Car manufacturing companies TO PRODUCE STYLISH MODEL CARS for low prices🔎This will stop other countries' cars in Indian markets &amp; grow economy\n",
      "\n",
      "11)  Good for Indian economy\n",
      "\n",
      "12)  This is not the time to talk about state separation. Indian economy to achieve its target strong Maharashtra is very much needed.\n",
      "\n",
      "13)    This shows the shameful state of Indian economy that such more Jan Rasois are being opened instead of getting closed.\n",
      "\n",
      "14)  Oil at 60 and Indian economy will be on fire.\n",
      "\n",
      "15) According to the latest data published by the Centre for Monitoring Indian Economy (CMIE), Haryana witnessed the highest unemployment rate in June at 30.6 per cent followed by Rajasthan (29.8 per cent).\n",
      "\n",
      "16)  I don't know about him, but I am sure about u by ur tweet u know nothing about the Indian economy 🙏🙏Ur comments on Rahul Gandhi is as meaningless as ur knowledge 🙏🙏\n",
      "\n",
      "17) Indian influence in South Asia declines as China expands foothold China's exports to the region grew over five times between 2005 and 2020 Latest News by BusinessStandard \n",
      "\n",
      "18) Unemployment Rate: सीएमआईई का दावा- जून में बेरोजगारी दर बढ़कर हुई 7.80 प्रतिशत, 1.3 करोड़ रोजगार घटे \n",
      "\n",
      "19) \n",
      "\n",
      "20) Crude fall beneficial to Indian stock markets and the economy as well. \n",
      "\n",
      "21) OutlookBusiness | The PLI scheme, which seeks to boost manufacturing in key areas by offering nearly Rs 2.4 lakh crore in incentives over the next five years, can add 4% to the GDP annually in terms of incremental revenue.\n",
      "\n",
      "22) Indian influence in South Asia declines as China expands foothold | Business Standard News  \n",
      "\n",
      "23) I work with an Indian dude who is now caught up in visa-hell and can't work. Amazes me that we let low/no-skilled workers come in and stay forever while we punish folks who want to freaking work and add value to the economy. Better off asking for forgiveness than permission.\n",
      "\n",
      "24) Amazon फ्लिपकार्ट जिओमार्ट जैसी E commerce कम्पनियां ही बेरोजगारी की असल वजह हैं       \n",
      "\n",
      "25)          _mecc _CAA_23 _offic    _speaks  _ari       _Romeo17                _KL ரெண்டு_அக்யூஸ்ட்_BJP leaders who destroyed economy \n",
      "\n",
      "26) Why Indian Rupee is falling against US Dollar Learn Trading from India's best StockMarket Institute in Indiacurrencymarket currency economy technicalanalysis stockmarkettips stockmarketnews stockmarketupdate russiaukrainewar rbi ismdelhi isminstitute nseindia \n",
      "\n",
      "27)      Hahaha Cry more India is way ahead of tiny turkiThere is no comparison, Indian Economy and Defence Budget is way Bigger than tiny Turkey 🤣🤣🤣 \n",
      "\n",
      "28) GST Benefits: Will it be a Game Changer for Indian Economy?  money taxes\n",
      "\n",
      "29)   _defense f35  to india living in lala land ,even muricanes finding hard to maintain 5th jen squadrons dts y they started funding 4.5gen jets &amp; u think indian economy allows dt 😊😊.\n",
      "\n",
      "30)   Corporate take that benefit,  people and economy will under recession level. Check your new indian corporate law.\n",
      "\n",
      "31) _Roberts01 The \"poor man's mall\"Usually has a Dollar Store with christian chachkies, Kumon, Adult ESL centre, one-star Chinese restaurant, economy Supermarket, Asian nail salon, small cinema that only plays Indian movies, McDonalds and Convenience Store with lots of drug paraphernalia\n",
      "\n",
      "32) _Ramesh BJP is threat to Indian Economy\n",
      "\n",
      "33) गिरता जा रहा रुपया, इकोनॉमी को कैसे होगा नुकसान, किसे मिलेगा फायदा, समझें \n",
      "\n",
      "34)    A lot of Indian and Jewish (my partner is Jewish) community is disenchanted with   - thanks to support for radical Islam (which is a MAJOR issue for us), communism, soft of crime, assault on meritocracy, terrible handling of economy. For the first time, I will vote Republican\n",
      "\n",
      "35) Ajay Singh, Chairman &amp; Managing Director of SpiceJet, came up with catchy phrases like' Desh ki pukaar, Modi sarkar' and 'Iss baar, Modi sarkar', ‘Ab ki baar Modi sarkar.Right now, his planes and Modi Sarkar's handling of the Indian economy are going the same way.\n",
      "\n",
      "36) Circular Economy is one of the themes of the New Generation Idea Contest 2022. Indian students are invited to participate and share ideas on: India’s electronic waste challenge, Cost-effective ways for spent catalyst valorization and Refining of used lubricating oil. 1/2 \n",
      "\n",
      "37) The country's unemployment rate has shot up at 7.80 per cent in June with the loss of 13 million jobs, mainly in the agriculture sector, according to the data released by economic think-tank Centre for Monitoring Indian Economy (CMIE). \n",
      "\n",
      "38)     Aap apne desh ke economy ke bare mein soochiye ,Indian pages mein jakr chutiy@ na kare\n",
      "\n",
      "39) India and UAE enjoy strong cultural &amp; trade relationsand the Indian ex-pat community is 35% of UAE populationand UAE is keen on transforming itself from an oil-dependent economy to a knowledge-based economy  India is strong in science &amp; technology\n",
      "\n",
      "40) _Beautiful muslims are a big danger for your country's economy do something to prevent this otherwise they will disturb the whole peace of the society it's an advice or warning of future from an Indian.No can tell you better than Indian about these radicals they are just f***ked up\n",
      "\n",
      "41) India's unemployment rate shot up to 7.80% in June with the loss of 13 million jobs, mainly in the agriculture sector.Here's what data released by the Centre for Monitoring Indian Economy shows⬇️India Unemployment Jobs Agriculture\n",
      "\n",
      "42) What is your outlook on the Indian economy, taking into consideration that the value of the rupee is depreciating as the commodity prices are increasing due to oil importation in India?\n",
      "\n",
      "43) _Bhau 😂 just like Sri Lanka ; wait and watch you'll see some part of bangladesh is now occupied by china ; but IMF says that India is fastest growing economy . But as a liberal you can't praise Indian government\n",
      "\n"
     ]
    }
   ],
   "source": [
    "#Print the negative tweets\n",
    "j=1;\n",
    "\n",
    "for i in range(0,df.shape[0]):\n",
    "    if(df['Sentiment'][i]=='Negative'):\n",
    "        print(str(j)+') '+sortedDF['Tweets'][i])\n",
    "        print()\n",
    "        j=j+1"
   ]
  },
  {
   "cell_type": "code",
   "execution_count": 172,
   "metadata": {},
   "outputs": [
    {
     "data": {
      "text/plain": [
       "39.0"
      ]
     },
     "execution_count": 172,
     "metadata": {},
     "output_type": "execute_result"
    }
   ],
   "source": [
    "#Get the percentage of positive tweets\n",
    "\n",
    "ptweets = df[df[\"Sentiment\"] == \"Positive\"]\n",
    "ptweets = ptweets['Tweets']\n",
    "round ((ptweets.shape[0]/df.shape[0])*100, 1)"
   ]
  },
  {
   "cell_type": "code",
   "execution_count": 173,
   "metadata": {},
   "outputs": [
    {
     "data": {
      "text/plain": [
       "43.0"
      ]
     },
     "execution_count": 173,
     "metadata": {},
     "output_type": "execute_result"
    }
   ],
   "source": [
    "#Get the percentage of negative tweets\n",
    "\n",
    "ntweets = df[df[\"Sentiment\"] == \"Negative\"]\n",
    "ntweets = ntweets['Tweets']\n",
    "round ((ntweets.shape[0]/df.shape[0])*100, 1)"
   ]
  },
  {
   "cell_type": "code",
   "execution_count": 174,
   "metadata": {},
   "outputs": [
    {
     "data": {
      "text/plain": [
       "18.0"
      ]
     },
     "execution_count": 174,
     "metadata": {},
     "output_type": "execute_result"
    }
   ],
   "source": [
    "#Get the percentage of neutral tweets\n",
    "nltweets = df[df[\"Sentiment\"] == \"Neutral\"]\n",
    "nltweets = nltweets['Tweets']\n",
    "\n",
    "round ((nltweets.shape[0]/df.shape[0])*100, 1)"
   ]
  },
  {
   "cell_type": "code",
   "execution_count": 175,
   "metadata": {},
   "outputs": [
    {
     "data": {
      "text/plain": [
       "<BarContainer object of 3 artists>"
      ]
     },
     "execution_count": 175,
     "metadata": {},
     "output_type": "execute_result"
    },
    {
     "data": {
      "image/png": "[encoded data removed]",
      "text/plain": [
       "<Figure size 432x288 with 1 Axes>"
      ]
     },
     "metadata": {
      "needs_background": "light"
     },
     "output_type": "display_data"
    }
   ],
   "source": [
    "#Plot and visualize the value counts\n",
    "labels = df.groupby('Sentiment').count().index.values\n",
    "values = df.groupby('Sentiment').size().values\n",
    "plt.title('Sentiment Analysis')\n",
    "plt.xlabel('Sentiment')\n",
    "plt.ylabel('Counts')\n",
    "plt.bar(labels, values)"
   ]
  }
 ],
 "metadata": {
  "kernelspec": {
   "display_name": "Python 3",
   "language": "python",
   "name": "python3"
  },
  "language_info": {
   "codemirror_mode": {
    "name": "ipython",
    "version": 3
   },
   "file_extension": ".py",
   "mimetype": "text/x-python",
   "name": "python",
   "nbconvert_exporter": "python",
   "pygments_lexer": "ipython3",
   "version": "3.8.3"
  }
 },
 "nbformat": 4,
 "nbformat_minor": 4
}
